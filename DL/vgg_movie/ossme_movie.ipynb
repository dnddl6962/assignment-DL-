{
 "cells": [
  {
   "cell_type": "code",
   "execution_count": 1,
   "metadata": {},
   "outputs": [],
   "source": [
    "import pandas as pd\n",
    "from sklearn.metrics import log_loss, roc_auc_score\n",
    "from sklearn.model_selection import train_test_split\n",
    "from sklearn.preprocessing import LabelEncoder\n",
    "import tensorflow as tf\n",
    "from deepctr.feature_column import SparseFeat,get_feature_names\n",
    "from deepctr.models import FLEN, DeepFM"
   ]
  },
  {
   "cell_type": "code",
   "execution_count": 4,
   "metadata": {},
   "outputs": [
    {
     "name": "stdout",
     "output_type": "stream",
     "text": [
      "Metal device set to: Apple M1\n",
      "\n",
      "systemMemory: 16.00 GB\n",
      "maxCacheSize: 5.33 GB\n",
      "\n"
     ]
    },
    {
     "name": "stderr",
     "output_type": "stream",
     "text": [
      "2023-12-07 10:39:40.267025: I tensorflow/core/common_runtime/pluggable_device/pluggable_device_factory.cc:305] Could not identify NUMA node of platform GPU ID 0, defaulting to 0. Your kernel may not have been built with NUMA support.\n",
      "2023-12-07 10:39:40.267139: I tensorflow/core/common_runtime/pluggable_device/pluggable_device_factory.cc:271] Created TensorFlow device (/job:localhost/replica:0/task:0/device:GPU:0 with 0 MB memory) -> physical PluggableDevice (device: 0, name: METAL, pci bus id: <undefined>)\n",
      "2023-12-07 10:39:40.764215: W tensorflow/core/platform/profile_utils/cpu_utils.cc:128] Failed to get CPU frequency: 0 Hz\n"
     ]
    },
    {
     "name": "stdout",
     "output_type": "stream",
     "text": [
      "Epoch 1/10\n"
     ]
    },
    {
     "name": "stderr",
     "output_type": "stream",
     "text": [
      "2023-12-07 10:39:41.160318: I tensorflow/core/grappler/optimizers/custom_graph_optimizer_registry.cc:113] Plugin optimizer for device_type GPU is enabled.\n",
      "loc(\"mps_select\"(\"(mpsFileLoc): /AppleInternal/Library/BuildRoots/495c257e-668e-11ee-93ce-926038f30c31/Library/Caches/com.apple.xbs/Sources/MetalPerformanceShadersGraph/mpsgraph/MetalPerformanceShadersGraph/Core/Files/MPSGraphUtilities.mm\":294:0)): error: 'anec.gain_offset_control' op result #0 must be 4D/5D memref of 16-bit float or 8-bit signed integer or 8-bit unsigned integer values, but got 'memref<1x256x1x1xi1>'\n",
      "loc(\"mps_select\"(\"(mpsFileLoc): /AppleInternal/Library/BuildRoots/495c257e-668e-11ee-93ce-926038f30c31/Library/Caches/com.apple.xbs/Sources/MetalPerformanceShadersGraph/mpsgraph/MetalPerformanceShadersGraph/Core/Files/MPSGraphUtilities.mm\":294:0)): error: 'anec.gain_offset_control' op result #0 must be 4D/5D memref of 16-bit float or 8-bit signed integer or 8-bit unsigned integer values, but got 'memref<1x256x1x1xi1>'\n",
      "2023-12-07 10:39:46.040439: I tensorflow/core/grappler/optimizers/custom_graph_optimizer_registry.cc:113] Plugin optimizer for device_type GPU is enabled.\n"
     ]
    },
    {
     "name": "stdout",
     "output_type": "stream",
     "text": [
      "250/250 - 6s - loss: 0.4864 - binary_crossentropy: 0.4864 - val_loss: 0.4459 - val_binary_crossentropy: 0.4458\n",
      "Epoch 2/10\n",
      "250/250 - 5s - loss: 0.4370 - binary_crossentropy: 0.4369 - val_loss: 0.4428 - val_binary_crossentropy: 0.4426\n",
      "Epoch 3/10\n",
      "250/250 - 5s - loss: 0.4297 - binary_crossentropy: 0.4296 - val_loss: 0.4358 - val_binary_crossentropy: 0.4356\n",
      "Epoch 4/10\n",
      "250/250 - 5s - loss: 0.4198 - binary_crossentropy: 0.4196 - val_loss: 0.4242 - val_binary_crossentropy: 0.4240\n",
      "Epoch 5/10\n",
      "250/250 - 5s - loss: 0.4017 - binary_crossentropy: 0.4015 - val_loss: 0.4021 - val_binary_crossentropy: 0.4019\n",
      "Epoch 6/10\n",
      "250/250 - 5s - loss: 0.3824 - binary_crossentropy: 0.3822 - val_loss: 0.3946 - val_binary_crossentropy: 0.3943\n",
      "Epoch 7/10\n",
      "250/250 - 5s - loss: 0.3704 - binary_crossentropy: 0.3701 - val_loss: 0.3875 - val_binary_crossentropy: 0.3872\n",
      "Epoch 8/10\n",
      "250/250 - 5s - loss: 0.3626 - binary_crossentropy: 0.3623 - val_loss: 0.3844 - val_binary_crossentropy: 0.3841\n",
      "Epoch 9/10\n",
      "250/250 - 5s - loss: 0.3566 - binary_crossentropy: 0.3562 - val_loss: 0.3825 - val_binary_crossentropy: 0.3821\n",
      "Epoch 10/10\n",
      "250/250 - 5s - loss: 0.3512 - binary_crossentropy: 0.3509 - val_loss: 0.3806 - val_binary_crossentropy: 0.3802\n"
     ]
    },
    {
     "name": "stderr",
     "output_type": "stream",
     "text": [
      "2023-12-07 10:40:29.766723: I tensorflow/core/grappler/optimizers/custom_graph_optimizer_registry.cc:113] Plugin optimizer for device_type GPU is enabled.\n"
     ]
    },
    {
     "name": "stdout",
     "output_type": "stream",
     "text": [
      "test LogLoss 0.3848\n",
      "test AUC 0.8701\n"
     ]
    }
   ],
   "source": [
    "if __name__ == \"__main__\":\n",
    "\n",
    "    data = pd.read_csv('./movielens.csv')\n",
    "\n",
    "    sparse_features = ['userId', 'title', 'genres', 'tag', 'rating']\n",
    "    target = ['target']\n",
    "\n",
    "    # 1.Label Encoding for sparse features,and do simple Transformation for dense features\n",
    "    for feat in sparse_features:\n",
    "        lbe = LabelEncoder()\n",
    "        data[feat] = lbe.fit_transform(data[feat])\n",
    "\n",
    "\n",
    "    # 2.count #unique features for each sparse field,and record dense feature field name\n",
    "\n",
    "    field_info = dict(userId = 'user', title = 'context', genres = 'context', tag ='context', rating = 'context')\n",
    "\n",
    "\n",
    "    # fixlen_feature_columns = [\n",
    "    #     SparseFeat(name, vocabulary_size=data[name].max() + 1, embedding_dim=16, use_hash=False, dtype='int32',\n",
    "    #                group_name=field_info[name]) for name in sparse_features]\n",
    "\n",
    "    # dnn_feature_columns = fixlen_feature_columns\n",
    "    # linear_feature_columns = fixlen_feature_columns\n",
    "\n",
    "\n",
    "\n",
    "    fixlen_feature_columns = [SparseFeat(feat, vocabulary_size=data[feat].nunique(), embedding_dim=4)\n",
    "                          for feat in sparse_features]\n",
    "    dnn_feature_columns = fixlen_feature_columns\n",
    "    linear_feature_columns = fixlen_feature_columns\n",
    "\n",
    "    feature_names = get_feature_names(linear_feature_columns + dnn_feature_columns)\n",
    "\n",
    "    # 3.generate input data for model\n",
    "\n",
    "    train, test = train_test_split(data, test_size=0.2, random_state=2020)\n",
    "    train_model_input = {name: train[name] for name in feature_names}\n",
    "    test_model_input = {name: test[name] for name in feature_names}\n",
    "\n",
    "    # 4.Define Model,train,predict and evaluate\n",
    "    model = DeepFM(linear_feature_columns, dnn_feature_columns, task='binary')\n",
    "    model.compile(\"adam\", \"binary_crossentropy\",\n",
    "                  metrics=['binary_crossentropy'], )\n",
    "\n",
    "    history = model.fit(train_model_input, train[target].values,\n",
    "                        batch_size=256, epochs=10, verbose=2, validation_split=0.2, )\n",
    "    pred_ans = model.predict(test_model_input, batch_size=256)\n",
    "    print(\"test LogLoss\", round(log_loss(test[target].values, pred_ans), 4))\n",
    "    print(\"test AUC\", round(roc_auc_score(test[target].values, pred_ans), 4))\n",
    "\n",
    "    \n",
    "\n",
    "\n",
    "\n",
    "    predictions = pd.DataFrame({\n",
    "    'userId': test['userId']+1,\n",
    "    'title': test['title'],\n",
    "    'prediction': pred_ans.flatten()})\n",
    "    \n",
    "    \n",
    "\n",
    "# 6. CSV 파일로 저장\n",
    "    data = pd.read_csv('./movielens.csv')\n",
    "\n",
    "    lbe = LabelEncoder()\n",
    "    lbe.fit(data['title'])\n",
    "    predictions['title'] = lbe.inverse_transform(predictions['title'])\n",
    "    predictions.to_csv('./decoded_predictions.csv', index=False)"
   ]
  },
  {
   "cell_type": "code",
   "execution_count": null,
   "metadata": {},
   "outputs": [],
   "source": []
  }
 ],
 "metadata": {
  "kernelspec": {
   "display_name": "venv",
   "language": "python",
   "name": "python3"
  },
  "language_info": {
   "codemirror_mode": {
    "name": "ipython",
    "version": 3
   },
   "file_extension": ".py",
   "mimetype": "text/x-python",
   "name": "python",
   "nbconvert_exporter": "python",
   "pygments_lexer": "ipython3",
   "version": "3.9.15"
  }
 },
 "nbformat": 4,
 "nbformat_minor": 2
}
